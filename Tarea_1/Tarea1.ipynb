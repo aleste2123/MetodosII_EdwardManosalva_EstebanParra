{
 "cells": [
  {
   "cell_type": "markdown",
   "id": "97429535",
   "metadata": {},
   "source": [
    "## Tarea: Ecuaciones Ordinarias\n",
    "\n",
    "Punto 1:\n",
    "\n",
    "Muestre que los siguientes operadores diferenciales:\n",
    "\n",
    "$$f'(x) = \\frac{-f(x+2h)+4f(x+h)-3f(x)}{2h}$$\n",
    "$$f''(x) = \\frac{f(x+h)-2f(x)+f(x-h)}{h^2}$$\n",
    "\n",
    "\n",
    "son consistentes. Use la función de prueba $f (x) = x2$ y $f (x) = sin x$ .\n"
   ]
  },
  {
   "cell_type": "code",
   "execution_count": null,
   "id": "5d30b65b",
   "metadata": {},
   "outputs": [],
   "source": []
  },
  {
   "cell_type": "markdown",
   "id": "6ab72306",
   "metadata": {},
   "source": [
    "Punto 2:\n",
    "\n",
    "Usando el código de la clase, genere 10 esferas localizadas aleatoriamente en la mesa A = 40 × 40 con velocidad aleatorias entre $−5 m/s$ y $5 m/s$. Simule 10 s con un paso de integración de $h = 0.001 s$ y reduzca la simulación en un factor de 200; quitando la interacción con la pared. Conteste las siguientes preguntas exponiendo los conceptos físicos involucrados."
   ]
  },
  {
   "cell_type": "markdown",
   "id": "886033a2",
   "metadata": {},
   "source": [
    "a) Grafique el momento lineal total en x (px) en función del tiempo. Se debería conservar?"
   ]
  }
 ],
 "metadata": {
  "kernelspec": {
   "display_name": "Python 3 (ipykernel)",
   "language": "python",
   "name": "python3"
  },
  "language_info": {
   "codemirror_mode": {
    "name": "ipython",
    "version": 3
   },
   "file_extension": ".py",
   "mimetype": "text/x-python",
   "name": "python",
   "nbconvert_exporter": "python",
   "pygments_lexer": "ipython3",
   "version": "3.11.4"
  }
 },
 "nbformat": 4,
 "nbformat_minor": 5
}
