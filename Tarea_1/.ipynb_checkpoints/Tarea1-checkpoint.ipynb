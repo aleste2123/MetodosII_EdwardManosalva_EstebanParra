{
 "cells": [
  {
   "cell_type": "markdown",
   "id": "5082e0c0",
   "metadata": {},
   "source": [
    "# Tarea: Ecuaciones Ordinarias\n"
   ]
  },
  {
   "cell_type": "code",
   "execution_count": 10,
   "id": "8c80b16d",
   "metadata": {},
   "outputs": [],
   "source": [
    "#Importacion de librerias\n",
    "%matplotlib notebook\n",
    "import numpy as np\n",
    "import matplotlib.pyplot as plt\n",
    "import matplotlib.animation as anim\n",
    "from tqdm import tqdm"
   ]
  },
  {
   "cell_type": "markdown",
   "id": "b6c1880c",
   "metadata": {},
   "source": [
    "##  Punto 1:\n",
    "\n",
    "Muestre que los siguientes operadores diferenciales:\n",
    "\n",
    "$$f'(x) = \\frac{-f(x+2h)+4f(x+h)-3f(x)}{2h}$$\n",
    "$$f''(x) = \\frac{f(x+h)-2f(x)+f(x-h)}{h^2}$$\n",
    "\n",
    "\n",
    "son consistentes. Use la función de prueba $f (x) = x^2$ y $f (x) = sin x$ .\n"
   ]
  },
  {
   "cell_type": "code",
   "execution_count": null,
   "id": "8f83754d",
   "metadata": {},
   "outputs": [],
   "source": []
  },
  {
   "cell_type": "markdown",
   "id": "a896e332",
   "metadata": {},
   "source": [
    "##  Punto 2:\n",
    "\n",
    "Usando el código de la clase, genere 10 esferas localizadas aleatoriamente en la mesa A = 40 × 40 con velocidad aleatorias entre $−5 m/s$ y $5 m/s$. Simule 10 s con un paso de integración de $h = 0.001 s$ y reduzca la simulación en un factor de 200; quitando la interacción con la pared. Conteste las siguientes preguntas exponiendo los conceptos físicos involucrados."
   ]
  },
  {
   "cell_type": "code",
   "execution_count": null,
   "id": "6d8ec224",
   "metadata": {},
   "outputs": [],
   "source": []
  },
  {
   "cell_type": "markdown",
   "id": "2eb5958d",
   "metadata": {},
   "source": [
    "a) Grafique el momento lineal total en x (p_x) en función del tiempo. Se debería conservar?"
   ]
  },
  {
   "cell_type": "code",
   "execution_count": null,
   "id": "943bf5d2",
   "metadata": {},
   "outputs": [],
   "source": []
  },
  {
   "cell_type": "markdown",
   "id": "acf1fd29",
   "metadata": {},
   "source": [
    "b) Grafique el momento lineal total en y ($p_y$) en función del tiempo. Se debería conservar?"
   ]
  },
  {
   "cell_type": "code",
   "execution_count": null,
   "id": "bd119177",
   "metadata": {},
   "outputs": [],
   "source": []
  },
  {
   "cell_type": "markdown",
   "id": "4c998b7b",
   "metadata": {},
   "source": [
    "c) Teóricamente muestre que la fuerza de contacto es conservativa. Encuentre la energía potencial."
   ]
  },
  {
   "cell_type": "code",
   "execution_count": null,
   "id": "018d0d68",
   "metadata": {},
   "outputs": [],
   "source": []
  },
  {
   "cell_type": "markdown",
   "id": "5a4258f9",
   "metadata": {},
   "source": [
    "d) Grafique la energía cinética total en función del tiempo. Se conserva?"
   ]
  },
  {
   "cell_type": "code",
   "execution_count": null,
   "id": "9c8ba6bf",
   "metadata": {},
   "outputs": [],
   "source": []
  },
  {
   "cell_type": "markdown",
   "id": "f40444a5",
   "metadata": {},
   "source": [
    "e) Grafique la energía potencial total en función del tiempo. ¿Qué significa que el potencial sea positivo?"
   ]
  },
  {
   "cell_type": "code",
   "execution_count": null,
   "id": "d9a2bb32",
   "metadata": {},
   "outputs": [],
   "source": []
  },
  {
   "cell_type": "markdown",
   "id": "b3fa503c",
   "metadata": {},
   "source": [
    "f) Grafique la energía mecánica total en función del tiempo. Se conserva? Explique a nivel físico y a nivel del método de Euler."
   ]
  },
  {
   "cell_type": "code",
   "execution_count": null,
   "id": "15b3378b",
   "metadata": {},
   "outputs": [],
   "source": []
  },
  {
   "cell_type": "markdown",
   "id": "015990e4",
   "metadata": {},
   "source": [
    "g) Se cumple el teorema del trabajo y la energía en su simulación? Argumente"
   ]
  },
  {
   "cell_type": "code",
   "execution_count": null,
   "id": "d716359a",
   "metadata": {},
   "outputs": [],
   "source": []
  },
  {
   "cell_type": "markdown",
   "id": "42003fa5",
   "metadata": {},
   "source": [
    "h) Calcule y grafique el momento angular en el eje z (L_z). Se conserva?"
   ]
  },
  {
   "cell_type": "code",
   "execution_count": null,
   "id": "9b7553a4",
   "metadata": {},
   "outputs": [],
   "source": []
  },
  {
   "cell_type": "markdown",
   "id": "db20c7c7",
   "metadata": {},
   "source": [
    "i) Si este sistema que se mueve en 2D se extendiera a 3D, las partículas se mantendrían en el mismo plano de movimiento o se moverían en todo el volumen?"
   ]
  },
  {
   "cell_type": "code",
   "execution_count": null,
   "id": "057a7399",
   "metadata": {},
   "outputs": [],
   "source": []
  },
  {
   "cell_type": "markdown",
   "id": "1d257db0",
   "metadata": {},
   "source": [
    "## Punto 7\n",
    "\n",
    "Considere la siguiente ecuación diferencial:\n",
    "$$\\frac{du}{dt} = \\alpha u, u(0) = u_0$$\n",
    "Muestre que aplicando iterativamente se obtiene:\n",
    "$$u_k = (1 + \\alpha\\Delta t)^ku_0 $$\n",
    "Para el caso donde $\\alpha < 0$. Muestre que la solución numérica oscilará si $\\Delta t > \\frac{−1}{\\alpha}$ . Ajuste $\\alpha = −1$ y muestre las soluciones oscilatorias para $\\Delta t = 1.1, 1.5, 1.9 s$. Por otro lado, la solución exacta nunca oscila $u(t) = e^{\\alpha t}$.\n"
   ]
  },
  {
   "cell_type": "code",
   "execution_count": null,
   "id": "322b575c",
   "metadata": {},
   "outputs": [],
   "source": []
  }
 ],
 "metadata": {
  "kernelspec": {
   "display_name": "Python 3 (ipykernel)",
   "language": "python",
   "name": "python3"
  },
  "language_info": {
   "codemirror_mode": {
    "name": "ipython",
    "version": 3
   },
   "file_extension": ".py",
   "mimetype": "text/x-python",
   "name": "python",
   "nbconvert_exporter": "python",
   "pygments_lexer": "ipython3",
   "version": "3.11.4"
  }
 },
 "nbformat": 4,
 "nbformat_minor": 5
}
