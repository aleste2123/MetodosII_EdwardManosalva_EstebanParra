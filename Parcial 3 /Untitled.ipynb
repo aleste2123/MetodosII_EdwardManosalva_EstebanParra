{
 "cells": [
  {
   "cell_type": "code",
   "execution_count": 1,
   "id": "cc79b6d1",
   "metadata": {},
   "outputs": [],
   "source": [
    "# ██████╗  █████╗ ██████╗  ██████╗██╗ █████╗ ██╗         ██████╗ \n",
    "# ██╔══██╗██╔══██╗██╔══██╗██╔════╝██║██╔══██╗██║         ╚════██╗\n",
    "# ██████╔╝███████║██████╔╝██║     ██║███████║██║          █████╔╝\n",
    "# ██╔═══╝ ██╔══██║██╔══██╗██║     ██║██╔══██║██║          ╚═══██╗\n",
    "# ██║     ██║  ██║██║  ██║╚██████╗██║██║  ██║███████╗    ██████╔╝\n",
    "# ╚═╝     ╚═╝  ╚═╝╚═╝  ╚═╝ ╚═════╝╚═╝╚═╝  ╚═╝╚══════╝    ╚═════╝                                                                "
   ]
  },
  {
   "cell_type": "code",
   "execution_count": 2,
   "id": "39032b25",
   "metadata": {},
   "outputs": [],
   "source": [
    "%matplotlib notebook\n",
    "import numpy as np\n",
    "import matplotlib\n",
    "import matplotlib.pyplot as plt\n",
    "import matplotlib.animation as anim\n",
    "from tqdm import tqdm\n",
    "import random as rnd\n",
    "import scipy as sci\n",
    "import sympy as sym"
   ]
  },
  {
   "cell_type": "markdown",
   "id": "c7f0a061",
   "metadata": {},
   "source": [
    "1. Considerando nuestra ecuación de onda, queremos buscar que alpha debe ser menor que uno, \n",
    "$$\\frac{\\partial^2u}{\\partial t^2} = \\alpha^2\\frac{\\partial^2u}{\\partial x^2} $$\n",
    "\n",
    "Donde podemos representar la siguiente ecuación en su manera discretizada:\n",
    "$$\\frac{u_i^{l+1}-2u_i^l+u_i^{l-1}}{2 \\Delta t^2} = v^2\\frac{u_{i+1}^l-2u_i^l+u_{i-1}^l}{2 \\Delta x^2}$$\n",
    "Ahora despejamos $u_i^{l+1}$ y sea $\\alpha = \\frac{v \\Delta t }{\\Delta x}$:\n",
    "\n",
    "$$u_i^{l+1} = \\alpha^2(u_{i+1}^l-2u_i^l+u_{i-1}^l)+2u_i^l-u_i^{l-1}$$\n",
    "\n",
    "Consideremos las componentes de Fourier, para la discretización, lo cual obtenemos lo siguiente: \n",
    "$$u_i^{l+1}-2u_i^l+u_i^{l-1}= -4 \\sin^2(\\frac{k\\Delta x}{2})u_i^l$$\n",
    "\n",
    "Ahora tenemos, \n",
    "\n",
    "$$u_i^{l+1} = -4\\alpha^2\\sin^2(\\frac{k\\Delta x}{2})u_i^l+2u_i^l-u_i^{l-1}$$\n",
    "$$u_i^{l+1} = (2-4\\alpha^2\\sin^2(\\frac{k\\Delta x}{2}))u_i^l-u_i^{l-1}$$\n",
    "\n",
    "\n",
    "Ahora consideremos las condiciones de estabilidad:\n",
    "\n",
    "$$2-4\\alpha^2\\sin^2(\\frac{k\\Delta x}{2})>2$$\n",
    "$$\\alpha^2\\sin^2(\\frac{k\\Delta x}{2})<1$$\n",
    "\n",
    "Considerando que el $\\sin^2(\\beta)$ nos da un valor máximo de 1, entonces tenemos que \n",
    "\n",
    "$$\\alpha^2<1  \\rightarrow |\\alpha|<1$$\n",
    "\n",
    "En el cual, comprobamos que el sistema para que tenga estabilidad es para valores de $\\alpha$ pequeños a la magnitud de 1. \n",
    "\n",
    "*Componente de fourier \n",
    "\n"
   ]
  },
  {
   "cell_type": "code",
   "execution_count": null,
   "id": "d444701f",
   "metadata": {},
   "outputs": [],
   "source": []
  }
 ],
 "metadata": {
  "kernelspec": {
   "display_name": "Python 3 (ipykernel)",
   "language": "python",
   "name": "python3"
  },
  "language_info": {
   "codemirror_mode": {
    "name": "ipython",
    "version": 3
   },
   "file_extension": ".py",
   "mimetype": "text/x-python",
   "name": "python",
   "nbconvert_exporter": "python",
   "pygments_lexer": "ipython3",
   "version": "3.11.4"
  }
 },
 "nbformat": 4,
 "nbformat_minor": 5
}
