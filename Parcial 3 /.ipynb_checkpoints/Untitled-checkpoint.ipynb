{
 "cells": [
  {
   "cell_type": "code",
   "execution_count": 1,
   "id": "ed62750c",
   "metadata": {},
   "outputs": [],
   "source": [
    "# ██████╗  █████╗ ██████╗  ██████╗██╗ █████╗ ██╗         ██████╗ \n",
    "# ██╔══██╗██╔══██╗██╔══██╗██╔════╝██║██╔══██╗██║         ╚════██╗\n",
    "# ██████╔╝███████║██████╔╝██║     ██║███████║██║          █████╔╝\n",
    "# ██╔═══╝ ██╔══██║██╔══██╗██║     ██║██╔══██║██║          ╚═══██╗\n",
    "# ██║     ██║  ██║██║  ██║╚██████╗██║██║  ██║███████╗    ██████╔╝\n",
    "# ╚═╝     ╚═╝  ╚═╝╚═╝  ╚═╝ ╚═════╝╚═╝╚═╝  ╚═╝╚══════╝    ╚═════╝                                                                "
   ]
  },
  {
   "cell_type": "code",
   "execution_count": 2,
   "id": "f49cd214",
   "metadata": {},
   "outputs": [],
   "source": [
    "%matplotlib notebook\n",
    "import numpy as np\n",
    "import matplotlib\n",
    "import matplotlib.pyplot as plt\n",
    "import matplotlib.animation as anim\n",
    "from tqdm import tqdm\n",
    "import random as rnd\n",
    "import scipy as sci\n",
    "import sympy as sym"
   ]
  },
  {
   "cell_type": "markdown",
   "id": "c3779b7a",
   "metadata": {},
   "source": [
    "1. Considerando nuestra ecuación de onda, queremos buscar que alpha debe ser menor que uno, \n",
    "$$\\frac{\\partial^2u}{\\partialt^2} = \\alpha^2\\frac{\\partial^2u}{\\partialt^2} $$"
   ]
  },
  {
   "cell_type": "code",
   "execution_count": null,
   "id": "16475e03",
   "metadata": {},
   "outputs": [],
   "source": []
  }
 ],
 "metadata": {
  "kernelspec": {
   "display_name": "Python 3 (ipykernel)",
   "language": "python",
   "name": "python3"
  },
  "language_info": {
   "codemirror_mode": {
    "name": "ipython",
    "version": 3
   },
   "file_extension": ".py",
   "mimetype": "text/x-python",
   "name": "python",
   "nbconvert_exporter": "python",
   "pygments_lexer": "ipython3",
   "version": "3.11.4"
  }
 },
 "nbformat": 4,
 "nbformat_minor": 5
}
