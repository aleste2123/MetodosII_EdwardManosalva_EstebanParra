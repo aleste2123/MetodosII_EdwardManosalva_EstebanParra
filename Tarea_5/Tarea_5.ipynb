{
 "cells": [
  {
   "cell_type": "code",
   "execution_count": null,
   "id": "5906ba24",
   "metadata": {},
   "outputs": [],
   "source": [
    "# ████████╗ █████╗ ██████╗ ███████╗ █████╗     ███████╗\n",
    "# ╚══██╔══╝██╔══██╗██╔══██╗██╔════╝██╔══██╗    ██╔════╝\n",
    "#    ██║   ███████║██████╔╝█████╗  ███████║    ███████╗\n",
    "#    ██║   ██╔══██║██╔══██╗██╔══╝  ██╔══██║    ╚════██║\n",
    "#    ██║   ██║  ██║██║  ██║███████╗██║  ██║    ███████║\n",
    "#    ╚═╝   ╚═╝  ╚═╝╚═╝  ╚═╝╚══════╝╚═╝  ╚═╝    ╚══════╝"
   ]
  },
  {
   "cell_type": "code",
   "execution_count": 1,
   "id": "dd130e11",
   "metadata": {},
   "outputs": [],
   "source": [
    "%matplotlib notebook\n",
    "import numpy as np\n",
    "import matplotlib\n",
    "import matplotlib.pyplot as plt\n",
    "import matplotlib.animation as anim\n",
    "from tqdm import tqdm\n",
    "import random as rnd\n",
    "import scipy as sci\n",
    "import sympy as sym"
   ]
  }
 ],
 "metadata": {
  "kernelspec": {
   "display_name": "Python 3 (ipykernel)",
   "language": "python",
   "name": "python3"
  },
  "language_info": {
   "codemirror_mode": {
    "name": "ipython",
    "version": 3
   },
   "file_extension": ".py",
   "mimetype": "text/x-python",
   "name": "python",
   "nbconvert_exporter": "python",
   "pygments_lexer": "ipython3",
   "version": "3.11.4"
  }
 },
 "nbformat": 4,
 "nbformat_minor": 5
}
