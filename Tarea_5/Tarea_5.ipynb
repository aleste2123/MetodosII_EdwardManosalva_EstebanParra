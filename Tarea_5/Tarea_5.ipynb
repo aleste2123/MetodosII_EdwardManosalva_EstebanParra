{
 "cells": [
  {
   "cell_type": "code",
   "execution_count": 2,
   "id": "a53865f0",
   "metadata": {},
   "outputs": [],
   "source": [
    "# ████████╗ █████╗ ██████╗ ███████╗ █████╗     ███████╗\n",
    "# ╚══██╔══╝██╔══██╗██╔══██╗██╔════╝██╔══██╗    ██╔════╝\n",
    "#    ██║   ███████║██████╔╝█████╗  ███████║    ███████╗\n",
    "#    ██║   ██╔══██║██╔══██╗██╔══╝  ██╔══██║    ╚════██║\n",
    "#    ██║   ██║  ██║██║  ██║███████╗██║  ██║    ███████║\n",
    "#    ╚═╝   ╚═╝  ╚═╝╚═╝  ╚═╝╚══════╝╚═╝  ╚═╝    ╚══════╝"
   ]
  },
  {
   "cell_type": "code",
   "execution_count": 3,
   "id": "c3bd17bb",
   "metadata": {},
   "outputs": [],
   "source": [
    "%matplotlib notebook\n",
    "import numpy as np\n",
    "import matplotlib\n",
    "import matplotlib.pyplot as plt\n",
    "import matplotlib.animation as anim\n",
    "from tqdm import tqdm\n",
    "import random as rnd\n",
    "import scipy as sci\n",
    "import sympy as sym"
   ]
  },
  {
   "cell_type": "markdown",
   "id": "93d2dead",
   "metadata": {},
   "source": [
    "1. "
   ]
  },
  {
   "cell_type": "code",
   "execution_count": null,
   "id": "dc3b3f8f",
   "metadata": {},
   "outputs": [],
   "source": []
  }
 ],
 "metadata": {
  "kernelspec": {
   "display_name": "Python 3 (ipykernel)",
   "language": "python",
   "name": "python3"
  },
  "language_info": {
   "codemirror_mode": {
    "name": "ipython",
    "version": 3
   },
   "file_extension": ".py",
   "mimetype": "text/x-python",
   "name": "python",
   "nbconvert_exporter": "python",
   "pygments_lexer": "ipython3",
   "version": "3.11.4"
  }
 },
 "nbformat": 4,
 "nbformat_minor": 5
}
