{
 "cells": [
  {
   "cell_type": "code",
   "execution_count": 2,
   "id": "4c231828",
   "metadata": {},
   "outputs": [],
   "source": [
    "#Importacion de librerias\n",
    "#import IPython\n",
    "#app = IPython.Application.instance()\n",
    "#app.kernel.do_shutdown(True) \n",
    "%matplotlib notebook\n",
    "#%matplotlib ipympl\n",
    "import numpy as np\n",
    "import matplotlib.pyplot as plt\n",
    "import matplotlib.animation as anim\n",
    "from tqdm import tqdm\n",
    "from sklearn.linear_model import LinearRegression"
   ]
  },
  {
   "cell_type": "code",
   "execution_count": 6,
   "id": "bff0396b",
   "metadata": {},
   "outputs": [
    {
     "name": "stderr",
     "output_type": "stream",
     "text": [
      "  1%|▎                             | 189656/22000000 [00:06<12:17, 29565.02it/s]\n"
     ]
    },
    {
     "ename": "KeyboardInterrupt",
     "evalue": "",
     "output_type": "error",
     "traceback": [
      "\u001b[0;31m---------------------------------------------------------------------------\u001b[0m",
      "\u001b[0;31mKeyboardInterrupt\u001b[0m                         Traceback (most recent call last)",
      "Cell \u001b[0;32mIn[6], line 36\u001b[0m\n\u001b[1;32m     32\u001b[0m     \u001b[38;5;28;01mreturn\u001b[39;00m R, A, V\n\u001b[1;32m     34\u001b[0m p0 \u001b[38;5;241m=\u001b[39m np\u001b[38;5;241m.\u001b[39marray([np\u001b[38;5;241m.\u001b[39marray([a\u001b[38;5;241m*\u001b[39m(\u001b[38;5;241m1\u001b[39m \u001b[38;5;241m+\u001b[39m e), \u001b[38;5;241m0\u001b[39m]), np\u001b[38;5;241m.\u001b[39marray([\u001b[38;5;241m0\u001b[39m, np\u001b[38;5;241m.\u001b[39msqrt(G\u001b[38;5;241m*\u001b[39m(\u001b[38;5;241m1\u001b[39m \u001b[38;5;241m-\u001b[39m e)\u001b[38;5;241m/\u001b[39m(a\u001b[38;5;241m*\u001b[39m(\u001b[38;5;241m1\u001b[39m \u001b[38;5;241m+\u001b[39m e)))])])\n\u001b[0;32m---> 36\u001b[0m R, A, V \u001b[38;5;241m=\u001b[39m movimiento(p0, t)\n\u001b[1;32m     38\u001b[0m scale\u001b[38;5;241m=\u001b[39m\u001b[38;5;241m1000\u001b[39m\n\u001b[1;32m     39\u001b[0m R1 \u001b[38;5;241m=\u001b[39m R[:,\u001b[38;5;241m0\u001b[39m][::scale]\n",
      "Cell \u001b[0;32mIn[6], line 29\u001b[0m, in \u001b[0;36mmovimiento\u001b[0;34m(p0, t)\u001b[0m\n\u001b[1;32m     27\u001b[0m \u001b[38;5;28;01mfor\u001b[39;00m i \u001b[38;5;129;01min\u001b[39;00m tqdm(\u001b[38;5;28mrange\u001b[39m(\u001b[38;5;241m0\u001b[39m,\u001b[38;5;28mlen\u001b[39m(t)\u001b[38;5;241m-\u001b[39m\u001b[38;5;241m1\u001b[39m)):\n\u001b[1;32m     28\u001b[0m     R[i\u001b[38;5;241m+\u001b[39m\u001b[38;5;241m1\u001b[39m] \u001b[38;5;241m=\u001b[39m R[i] \u001b[38;5;241m+\u001b[39m V[i]\u001b[38;5;241m*\u001b[39mh \u001b[38;5;241m+\u001b[39m \u001b[38;5;241m0.5\u001b[39m\u001b[38;5;241m*\u001b[39mA[i]\u001b[38;5;241m*\u001b[39mh\u001b[38;5;241m*\u001b[39m\u001b[38;5;241m*\u001b[39m\u001b[38;5;241m2\u001b[39m\n\u001b[0;32m---> 29\u001b[0m     A[i\u001b[38;5;241m+\u001b[39m\u001b[38;5;241m1\u001b[39m] \u001b[38;5;241m=\u001b[39m aceleracion(R[i\u001b[38;5;241m+\u001b[39m\u001b[38;5;241m1\u001b[39m])\n\u001b[1;32m     30\u001b[0m     V[i\u001b[38;5;241m+\u001b[39m\u001b[38;5;241m1\u001b[39m] \u001b[38;5;241m=\u001b[39m V[i] \u001b[38;5;241m+\u001b[39m \u001b[38;5;241m0.5\u001b[39m\u001b[38;5;241m*\u001b[39mh\u001b[38;5;241m*\u001b[39m(A[i]\u001b[38;5;241m+\u001b[39mA[i\u001b[38;5;241m+\u001b[39m\u001b[38;5;241m1\u001b[39m])\n\u001b[1;32m     32\u001b[0m \u001b[38;5;28;01mreturn\u001b[39;00m R, A, V\n",
      "Cell \u001b[0;32mIn[6], line 8\u001b[0m, in \u001b[0;36maceleracion\u001b[0;34m(r)\u001b[0m\n\u001b[1;32m      7\u001b[0m \u001b[38;5;28;01mdef\u001b[39;00m \u001b[38;5;21maceleracion\u001b[39m(r):\n\u001b[0;32m----> 8\u001b[0m     distancia \u001b[38;5;241m=\u001b[39m np\u001b[38;5;241m.\u001b[39mlinalg\u001b[38;5;241m.\u001b[39mnorm(r)\n\u001b[1;32m      9\u001b[0m     \u001b[38;5;28;01mreturn\u001b[39;00m \u001b[38;5;241m-\u001b[39mr \u001b[38;5;241m*\u001b[39m  (G\u001b[38;5;241m/\u001b[39mdistancia\u001b[38;5;241m*\u001b[39m\u001b[38;5;241m*\u001b[39m\u001b[38;5;241m3\u001b[39m)\u001b[38;5;241m*\u001b[39m(\u001b[38;5;241m1\u001b[39m\u001b[38;5;241m+\u001b[39mDelta_t\u001b[38;5;241m/\u001b[39mdistancia\u001b[38;5;241m*\u001b[39m\u001b[38;5;241m*\u001b[39m\u001b[38;5;241m2\u001b[39m)\n",
      "File \u001b[0;32m<__array_function__ internals>:200\u001b[0m, in \u001b[0;36mnorm\u001b[0;34m(*args, **kwargs)\u001b[0m\n",
      "File \u001b[0;32m~/anaconda3/lib/python3.11/site-packages/numpy/linalg/linalg.py:2512\u001b[0m, in \u001b[0;36mnorm\u001b[0;34m(x, ord, axis, keepdims)\u001b[0m\n\u001b[1;32m   2510\u001b[0m \u001b[38;5;28;01melse\u001b[39;00m:\n\u001b[1;32m   2511\u001b[0m     sqnorm \u001b[38;5;241m=\u001b[39m x\u001b[38;5;241m.\u001b[39mdot(x)\n\u001b[0;32m-> 2512\u001b[0m ret \u001b[38;5;241m=\u001b[39m sqrt(sqnorm)\n\u001b[1;32m   2513\u001b[0m \u001b[38;5;28;01mif\u001b[39;00m keepdims:\n\u001b[1;32m   2514\u001b[0m     ret \u001b[38;5;241m=\u001b[39m ret\u001b[38;5;241m.\u001b[39mreshape(ndim\u001b[38;5;241m*\u001b[39m[\u001b[38;5;241m1\u001b[39m])\n",
      "\u001b[0;31mKeyboardInterrupt\u001b[0m: "
     ]
    }
   ],
   "source": [
    "a = 0.387098\n",
    "e = 0.205630 \n",
    "G = 6.67430e-11\n",
    "Delta_t = 1e-07\n",
    "t = np.arange(0,2.2,Delta_t)\n",
    "\n",
    "def aceleracion(r):\n",
    "    distancia = np.linalg.norm(r)\n",
    "    return -r *  (G/distancia**3)*(1+Delta_t/distancia**2)\n",
    "\n",
    "def movimiento(p0,t):\n",
    "\n",
    "    h = t[1] - t[0]\n",
    "\n",
    "    r0 = p0[0]\n",
    "    v0 = p0[1]\n",
    "    a0 = aceleracion(r0)\n",
    "\n",
    "    R = np.zeros((len(t),len(r0)))\n",
    "    V = np.zeros_like(R)\n",
    "    A = np.zeros_like(R)\n",
    "\n",
    "    R[0] = r0\n",
    "    V[0] = v0\n",
    "    A[0] = a0\n",
    "\n",
    "    for i in tqdm(range(0,len(t)-1)):\n",
    "        R[i+1] = R[i] + V[i]*h + 0.5*A[i]*h**2\n",
    "        A[i+1] = aceleracion(R[i+1])\n",
    "        V[i+1] = V[i] + 0.5*h*(A[i]+A[i+1])\n",
    "    \n",
    "    return R, A, V\n",
    "\n",
    "p0 = np.array([np.array([a*(1 + e), 0]), np.array([0, np.sqrt(G*(1 - e)/(a*(1 + e)))])])\n",
    "\n",
    "R, A, V = movimiento(p0, t)\n",
    "\n",
    "scale=1000\n",
    "R1 = R[:,0][::scale]\n",
    "R2 = R[:,1][::scale]\n",
    "\n",
    "\n",
    "plt.plot(R1, R2)"
   ]
  }
 ],
 "metadata": {
  "kernelspec": {
   "display_name": "Python 3 (ipykernel)",
   "language": "python",
   "name": "python3"
  },
  "language_info": {
   "codemirror_mode": {
    "name": "ipython",
    "version": 3
   },
   "file_extension": ".py",
   "mimetype": "text/x-python",
   "name": "python",
   "nbconvert_exporter": "python",
   "pygments_lexer": "ipython3",
   "version": "3.11.4"
  }
 },
 "nbformat": 4,
 "nbformat_minor": 5
}
