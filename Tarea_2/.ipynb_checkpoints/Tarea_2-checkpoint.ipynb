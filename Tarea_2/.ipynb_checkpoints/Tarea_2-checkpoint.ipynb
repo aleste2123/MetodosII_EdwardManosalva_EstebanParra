{
 "cells": [
  {
   "cell_type": "markdown",
   "id": "b2e45183",
   "metadata": {},
   "source": [
    "# Tarea 2"
   ]
  },
  {
   "cell_type": "code",
   "execution_count": 2,
   "id": "40ef0b6f",
   "metadata": {},
   "outputs": [],
   "source": [
    "#Importacion de librerias\n",
    "#import IPython\n",
    "#app = IPython.Application.instance()\n",
    "#app.kernel.do_shutdown(True) \n",
    "%matplotlib notebook\n",
    "#%matplotlib ipympl\n",
    "import numpy as np\n",
    "import matplotlib.pyplot as plt\n",
    "import matplotlib.animation as anim\n",
    "from tqdm import tqdm\n",
    "from sklearn.linear_model import LinearRegression"
   ]
  },
  {
   "cell_type": "markdown",
   "id": "51ec7ce7",
   "metadata": {},
   "source": [
    "1.**Estabilidad I:** Usando el código de clase, estudie la estabilidad de los algoritmo Runge-kutta de tercer y cuarto orden. Realice las graficas y suposiciones que considere necesarias."
   ]
  }
 ],
 "metadata": {
  "kernelspec": {
   "display_name": "Python 3 (ipykernel)",
   "language": "python",
   "name": "python3"
  },
  "language_info": {
   "codemirror_mode": {
    "name": "ipython",
    "version": 3
   },
   "file_extension": ".py",
   "mimetype": "text/x-python",
   "name": "python",
   "nbconvert_exporter": "python",
   "pygments_lexer": "ipython3",
   "version": "3.11.4"
  }
 },
 "nbformat": 4,
 "nbformat_minor": 5
}
